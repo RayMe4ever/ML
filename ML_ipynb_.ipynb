{
  "cells": [
    {
      "cell_type": "markdown",
      "metadata": {
        "id": "6ygC__Oy69Ch"
      },
      "source": [
        "##Импортируем нужные модули"
      ]
    },
    {
      "cell_type": "code",
      "execution_count": null,
      "metadata": {
        "id": "R2x8UqeASJFL"
      },
      "outputs": [],
      "source": [
        "import matplotlib.pyplot as plt\n",
        "import numpy as np\n",
        "import PIL\n",
        "import tensorflow as tf\n",
        "\n",
        "from tensorflow import keras\n",
        "from tensorflow.keras import layers\n",
        "from tensorflow.keras.models import Sequential"
      ]
    },
    {
      "cell_type": "markdown",
      "metadata": {
        "id": "fV9FwQC-7Cnj"
      },
      "source": [
        "##Закачиваем датасет"
      ]
    },
    {
      "cell_type": "code",
      "execution_count": null,
      "metadata": {
        "colab": {
          "base_uri": "https://localhost:8080/"
        },
        "id": "euFL735x7Gx0",
        "outputId": "a26bbe0e-ad03-48be-f6d7-61f3fe5db2b2"
      },
      "outputs": [
        {
          "name": "stdout",
          "output_type": "stream",
          "text": [
            "Downloading data from https://storage.googleapis.com/download.tensorflow.org/example_images/flower_photos.tgz\n",
            "228813984/228813984 [==============================] - 2s 0us/step\n"
          ]
        }
      ],
      "source": [
        "import pathlib\n",
        "\n",
        "dataset_url = \"https://storage.googleapis.com/download.tensorflow.org/example_images/flower_photos.tgz\"\n",
        "dataset_dir = tf.keras.utils.get_file('flower_photos.tar', origin=dataset_url, extract=True)\n",
        "dataset_dir = pathlib.Path(dataset_dir).with_suffix('')"
      ]
    },
    {
      "cell_type": "markdown",
      "metadata": {
        "id": "KrQDsDkp7TxO"
      },
      "source": [
        "Выводим кол-во. изображений в датасете"
      ]
    },
    {
      "cell_type": "code",
      "execution_count": null,
      "metadata": {
        "colab": {
          "base_uri": "https://localhost:8080/"
        },
        "id": "MbE2bPuw7W5Y",
        "outputId": "b1143f7b-8a51-4199-b3be-0a3da4e93888"
      },
      "outputs": [
        {
          "name": "stdout",
          "output_type": "stream",
          "text": [
            "Всего изображений: 3670\n"
          ]
        }
      ],
      "source": [
        "image_count = len(list(dataset_dir.glob(\"*/*.jpg\")))\n",
        "print(f\"Всего изображений: {image_count}\")"
      ]
    },
    {
      "cell_type": "markdown",
      "metadata": {
        "id": "ceIvrDCg_7RX"
      },
      "source": [
        "## Создаем датасеты и кэшируем их"
      ]
    },
    {
      "cell_type": "code",
      "execution_count": null,
      "metadata": {
        "colab": {
          "base_uri": "https://localhost:8080/"
        },
        "id": "Uyw_RxusACKo",
        "outputId": "0bf4214d-07ca-4519-deb9-7ea1c604db44"
      },
      "outputs": [
        {
          "name": "stdout",
          "output_type": "stream",
          "text": [
            "Found 3670 files belonging to 5 classes.\n",
            "Using 2936 files for training.\n",
            "Found 3670 files belonging to 5 classes.\n",
            "Using 734 files for validation.\n",
            "Class names: ['daisy', 'dandelion', 'roses', 'sunflowers', 'tulips']\n"
          ]
        }
      ],
      "source": [
        "batch_size = 32\n",
        "img_width = 180\n",
        "img_height = 180\n",
        "\n",
        "train_ds = tf.keras.utils.image_dataset_from_directory(\n",
        "\tdataset_dir,\n",
        "\tvalidation_split=0.2,\n",
        "\tsubset=\"training\",\n",
        "\tseed=123,\n",
        "\timage_size=(img_height, img_width),\n",
        "\tbatch_size=batch_size)\n",
        "\n",
        "val_ds = tf.keras.utils.image_dataset_from_directory(\n",
        "\tdataset_dir,\n",
        "\tvalidation_split=0.2,\n",
        "\tsubset=\"validation\",\n",
        "\tseed=123,\n",
        "\timage_size=(img_height, img_width),\n",
        "\tbatch_size=batch_size)\n",
        "\n",
        "class_names = train_ds.class_names\n",
        "print(f\"Class names: {class_names}\")\n",
        "\n",
        "# cache\n",
        "AUTOTUNE = tf.data.AUTOTUNE\n",
        "train_ds = train_ds.cache().shuffle(1000).prefetch(buffer_size=AUTOTUNE)\n",
        "val_ds = val_ds.cache().prefetch(buffer_size=AUTOTUNE)"
      ]
    },
    {
      "cell_type": "markdown",
      "metadata": {
        "id": "7C5uNf69AImR"
      },
      "source": [
        "## Создаем модель, компилируем её и выводим summary"
      ]
    },
    {
      "cell_type": "code",
      "execution_count": null,
      "metadata": {
        "colab": {
          "base_uri": "https://localhost:8080/"
        },
        "id": "Wp4X44vrAMq9",
        "outputId": "7b892677-07df-4487-f5d2-f5743ee723b6"
      },
      "outputs": [
        {
          "name": "stdout",
          "output_type": "stream",
          "text": [
            "Model: \"sequential\"\n",
            "_________________________________________________________________\n",
            " Layer (type)                Output Shape              Param #   \n",
            "=================================================================\n",
            " rescaling (Rescaling)       (None, 180, 180, 3)       0         \n",
            "                                                                 \n",
            " conv2d (Conv2D)             (None, 180, 180, 8)       224       \n",
            "                                                                 \n",
            " max_pooling2d (MaxPooling2  (None, 90, 90, 8)         0         \n",
            " D)                                                              \n",
            "                                                                 \n",
            " conv2d_1 (Conv2D)           (None, 90, 90, 16)        1168      \n",
            "                                                                 \n",
            " max_pooling2d_1 (MaxPoolin  (None, 45, 45, 16)        0         \n",
            " g2D)                                                            \n",
            "                                                                 \n",
            " conv2d_2 (Conv2D)           (None, 45, 45, 32)        4640      \n",
            "                                                                 \n",
            " max_pooling2d_2 (MaxPoolin  (None, 22, 22, 32)        0         \n",
            " g2D)                                                            \n",
            "                                                                 \n",
            " flatten (Flatten)           (None, 15488)             0         \n",
            "                                                                 \n",
            " dense (Dense)               (None, 128)               1982592   \n",
            "                                                                 \n",
            " dense_1 (Dense)             (None, 5)                 645       \n",
            "                                                                 \n",
            "=================================================================\n",
            "Total params: 1989269 (7.59 MB)\n",
            "Trainable params: 1989269 (7.59 MB)\n",
            "Non-trainable params: 0 (0.00 Byte)\n",
            "_________________________________________________________________\n"
          ]
        }
      ],
      "source": [
        "# create model\n",
        "num_classes = len(class_names)\n",
        "model = Sequential([\n",
        "\t# т.к. у нас версия TF 2.6 локально\n",
        "\tlayers.experimental.preprocessing.Rescaling(1./255, input_shape=(img_height, img_width, 3)),\n",
        "\n",
        "\t# дальше везде одинаково\n",
        "\tlayers.Conv2D(8, 3, padding='same', activation='relu'),\n",
        "\tlayers.MaxPooling2D(),\n",
        "\n",
        "\tlayers.Conv2D(16, 3, padding='same', activation='relu'),\n",
        "\tlayers.MaxPooling2D(),\n",
        "\n",
        "\tlayers.Conv2D(32, 3, padding='same', activation='relu'),\n",
        "\tlayers.MaxPooling2D(),\n",
        "\n",
        "\tlayers.Flatten(),\n",
        "\tlayers.Dense(128, activation='relu'),\n",
        "\tlayers.Dense(num_classes)\n",
        "])\n",
        "\n",
        "# compile the model\n",
        "model.compile(\n",
        "\toptimizer='adam',\n",
        "\tloss=tf.keras.losses.SparseCategoricalCrossentropy(from_logits=True),\n",
        "\tmetrics=['accuracy'])\n",
        "\n",
        "# print model summary\n",
        "model.summary()"
      ]
    },
    {
      "cell_type": "markdown",
      "metadata": {
        "id": "nfQJzx1eIxR-"
      },
      "source": [
        "##Обучаем нейросеть и выводим графики точности\n"
      ]
    },
    {
      "cell_type": "code",
      "execution_count": null,
      "metadata": {
        "colab": {
          "base_uri": "https://localhost:8080/",
          "height": 1000
        },
        "id": "DT2-NCLnI1wr",
        "outputId": "95b3f0ca-5bad-4584-fad9-3fb8759a0c08"
      },
      "outputs": [
        {
          "name": "stdout",
          "output_type": "stream",
          "text": [
            "Epoch 1/10\n",
            "92/92 [==============================] - 20s 46ms/step - loss: 1.4728 - accuracy: 0.3760 - val_loss: 1.1635 - val_accuracy: 0.5599\n",
            "Epoch 2/10\n",
            "92/92 [==============================] - 1s 13ms/step - loss: 1.0407 - accuracy: 0.5886 - val_loss: 0.9815 - val_accuracy: 0.6076\n",
            "Epoch 3/10\n",
            "92/92 [==============================] - 1s 13ms/step - loss: 0.8736 - accuracy: 0.6649 - val_loss: 0.9453 - val_accuracy: 0.6090\n",
            "Epoch 4/10\n",
            "92/92 [==============================] - 1s 13ms/step - loss: 0.7375 - accuracy: 0.7302 - val_loss: 0.9639 - val_accuracy: 0.6431\n",
            "Epoch 5/10\n",
            "92/92 [==============================] - 1s 13ms/step - loss: 0.5802 - accuracy: 0.7909 - val_loss: 0.9719 - val_accuracy: 0.6267\n",
            "Epoch 6/10\n",
            "92/92 [==============================] - 1s 13ms/step - loss: 0.4189 - accuracy: 0.8460 - val_loss: 1.0124 - val_accuracy: 0.6349\n",
            "Epoch 7/10\n",
            "92/92 [==============================] - 1s 13ms/step - loss: 0.2819 - accuracy: 0.9145 - val_loss: 1.1736 - val_accuracy: 0.6226\n",
            "Epoch 8/10\n",
            "92/92 [==============================] - 1s 13ms/step - loss: 0.1840 - accuracy: 0.9452 - val_loss: 1.3451 - val_accuracy: 0.6213\n",
            "Epoch 9/10\n",
            "92/92 [==============================] - 1s 14ms/step - loss: 0.1056 - accuracy: 0.9700 - val_loss: 1.4622 - val_accuracy: 0.6362\n",
            "Epoch 10/10\n",
            "92/92 [==============================] - 1s 15ms/step - loss: 0.0819 - accuracy: 0.9789 - val_loss: 1.7641 - val_accuracy: 0.6131\n"
          ]
        },
        {
          "data": {
            "image/png": "[encoded data removed]",
            "text/plain": [
              "<Figure size 800x800 with 2 Axes>"
            ]
          },
          "metadata": {},
          "output_type": "display_data"
        }
      ],
      "source": [
        "# train the model\n",
        "epochs = 10 # количество эпох тренировки\n",
        "history = model.fit(\n",
        "\ttrain_ds,\n",
        "\tvalidation_data=val_ds,\n",
        "\tepochs=epochs)\n",
        "\n",
        "# visualize training and validation results\n",
        "acc = history.history['accuracy']\n",
        "val_acc = history.history['val_accuracy']\n",
        "\n",
        "loss = history.history['loss']\n",
        "val_loss = history.history['val_loss']\n",
        "\n",
        "epochs_range = range(epochs)\n",
        "\n",
        "plt.figure(figsize=(8, 8))\n",
        "plt.subplot(1, 2, 1)\n",
        "plt.plot(epochs_range, acc, label='Training Accuracy')\n",
        "plt.plot(epochs_range, val_acc, label='Validation Accuracy')\n",
        "plt.legend(loc='lower right')\n",
        "plt.title('Training and Validation Accuracy')\n",
        "\n",
        "plt.subplot(1, 2, 2)\n",
        "plt.plot(epochs_range, loss, label='Training Loss')\n",
        "plt.plot(epochs_range, val_loss, label='Validation Loss')\n",
        "plt.legend(loc='upper right')\n",
        "plt.title('Training and Validation Loss')\n",
        "plt.show()"
      ]
    },
    {
      "cell_type": "markdown",
      "metadata": {
        "id": "oX1q0gaOcs8i"
      },
      "source": [
        "##Решение проблемы переобучения.\n",
        "##Добавляем аугментацию и регуляризацию (Dropout)"
      ]
    },
    {
      "cell_type": "code",
      "execution_count": null,
      "metadata": {
        "colab": {
          "base_uri": "https://localhost:8080/"
        },
        "id": "80LQ8Aosc4Ll",
        "outputId": "f5f7342c-413b-4e16-8c5e-3d6842ee6451"
      },
      "outputs": [
        {
          "name": "stdout",
          "output_type": "stream",
          "text": [
            "Model: \"sequential_6\"\n",
            "_________________________________________________________________\n",
            " Layer (type)                Output Shape              Param #   \n",
            "=================================================================\n",
            " rescaling_6 (Rescaling)     (None, 180, 180, 3)       0         \n",
            "                                                                 \n",
            " random_flip_5 (RandomFlip)  (None, 180, 180, 3)       0         \n",
            "                                                                 \n",
            " random_rotation_5 (RandomR  (None, 180, 180, 3)       0         \n",
            " otation)                                                        \n",
            "                                                                 \n",
            " random_zoom_5 (RandomZoom)  (None, 180, 180, 3)       0         \n",
            "                                                                 \n",
            " random_contrast_5 (RandomC  (None, 180, 180, 3)       0         \n",
            " ontrast)                                                        \n",
            "                                                                 \n",
            " conv2d_18 (Conv2D)          (None, 180, 180, 32)      896       \n",
            "                                                                 \n",
            " max_pooling2d_18 (MaxPooli  (None, 90, 90, 32)        0         \n",
            " ng2D)                                                           \n",
            "                                                                 \n",
            " conv2d_19 (Conv2D)          (None, 90, 90, 64)        18496     \n",
            "                                                                 \n",
            " max_pooling2d_19 (MaxPooli  (None, 45, 45, 64)        0         \n",
            " ng2D)                                                           \n",
            "                                                                 \n",
            " conv2d_20 (Conv2D)          (None, 45, 45, 128)       73856     \n",
            "                                                                 \n",
            " max_pooling2d_20 (MaxPooli  (None, 22, 22, 128)       0         \n",
            " ng2D)                                                           \n",
            "                                                                 \n",
            " conv2d_21 (Conv2D)          (None, 22, 22, 10)        11530     \n",
            "                                                                 \n",
            " max_pooling2d_21 (MaxPooli  (None, 11, 11, 10)        0         \n",
            " ng2D)                                                           \n",
            "                                                                 \n",
            " dropout_5 (Dropout)         (None, 11, 11, 10)        0         \n",
            "                                                                 \n",
            " flatten_6 (Flatten)         (None, 1210)              0         \n",
            "                                                                 \n",
            " dense_12 (Dense)            (None, 128)               155008    \n",
            "                                                                 \n",
            " dense_13 (Dense)            (None, 5)                 645       \n",
            "                                                                 \n",
            "=================================================================\n",
            "Total params: 260431 (1017.31 KB)\n",
            "Trainable params: 260431 (1017.31 KB)\n",
            "Non-trainable params: 0 (0.00 Byte)\n",
            "_________________________________________________________________\n"
          ]
        }
      ],
      "source": [
        "model = Sequential([\n",
        "\t# т.к. у нас версия TF 2.6 локально\n",
        "\tlayers.experimental.preprocessing.Rescaling(1./255, input_shape=(img_height, img_width, 3)),\n",
        "\n",
        "\t# аугментация\n",
        "\tlayers.experimental.preprocessing.RandomFlip(\"horizontal\", input_shape=(img_height, img_width, 3)),\n",
        "\tlayers.experimental.preprocessing.RandomRotation(0.1),\n",
        "\tlayers.experimental.preprocessing.RandomZoom(0.1),\n",
        "\tlayers.experimental.preprocessing.RandomContrast(0.2),\n",
        "\n",
        "\t# дальше везде одинаково\n",
        "\n",
        "\tlayers.Conv2D(32, 3, padding='same', activation='relu'),\n",
        "\tlayers.MaxPooling2D(),\n",
        "\n",
        "\tlayers.Conv2D(64, 3, padding='same', activation='relu'),\n",
        "\tlayers.MaxPooling2D(),\n",
        "\n",
        "\tlayers.Conv2D(128, 3, padding='same', activation='relu'),\n",
        "\tlayers.MaxPooling2D(),\n",
        "\n",
        " \tlayers.Conv2D(10, 3, padding='same', activation='softmax'),\n",
        "\tlayers.MaxPooling2D(),\n",
        "\n",
        "\n",
        "\t# регуляризация\n",
        "\tlayers.Dropout(0.4),\n",
        "\n",
        "\tlayers.Flatten(),\n",
        "\tlayers.Dense(128, activation='relu'),\n",
        "\tlayers.Dense(num_classes)\n",
        "])\n",
        "\n",
        "# compile the model\n",
        "model.compile(\n",
        "\toptimizer='adam',\n",
        "\tloss=tf.keras.losses.SparseCategoricalCrossentropy(from_logits=True),\n",
        "\tmetrics=['accuracy'])\n",
        "\n",
        "# print model summary\n",
        "model.summary()"
      ]
    },
    {
      "cell_type": "markdown",
      "metadata": {
        "id": "JPMh5UDfdbWN"
      },
      "source": [
        "##Повторно обучаем нейросеть с новыми слоями и увеличенным количеством эпох обучения"
      ]
    },
    {
      "cell_type": "code",
      "execution_count": null,
      "metadata": {
        "colab": {
          "background_save": true,
          "base_uri": "https://localhost:8080/"
        },
        "id": "EmgTbFGHdfhr",
        "outputId": "2d486dd7-919f-4b1f-9d5a-ea0335b3c4d8"
      },
      "outputs": [
        {
          "name": "stdout",
          "output_type": "stream",
          "text": [
            "Epoch 1/40\n",
            "92/92 [==============================] - 5s 56ms/step - loss: 0.6792 - accuracy: 0.7381 - val_loss: 0.6957 - val_accuracy: 0.7343\n",
            "Epoch 2/40\n",
            "92/92 [==============================] - 5s 56ms/step - loss: 0.6634 - accuracy: 0.7473 - val_loss: 0.7157 - val_accuracy: 0.7316\n",
            "Epoch 3/40\n",
            "92/92 [==============================] - 5s 57ms/step - loss: 0.6560 - accuracy: 0.7428 - val_loss: 0.7183 - val_accuracy: 0.7193\n",
            "Epoch 4/40\n",
            "92/92 [==============================] - 5s 56ms/step - loss: 0.6564 - accuracy: 0.7463 - val_loss: 0.7837 - val_accuracy: 0.6962\n",
            "Epoch 5/40\n",
            "92/92 [==============================] - 5s 57ms/step - loss: 0.6517 - accuracy: 0.7554 - val_loss: 0.6636 - val_accuracy: 0.7507\n",
            "Epoch 6/40\n",
            "92/92 [==============================] - 5s 57ms/step - loss: 0.6392 - accuracy: 0.7582 - val_loss: 0.7713 - val_accuracy: 0.7112\n",
            "Epoch 7/40\n",
            "92/92 [==============================] - 5s 56ms/step - loss: 0.6174 - accuracy: 0.7629 - val_loss: 0.6925 - val_accuracy: 0.7452\n",
            "Epoch 8/40\n",
            "92/92 [==============================] - 5s 57ms/step - loss: 0.6128 - accuracy: 0.7646 - val_loss: 0.6924 - val_accuracy: 0.7452\n",
            "Epoch 9/40\n",
            "92/92 [==============================] - 5s 57ms/step - loss: 0.6033 - accuracy: 0.7715 - val_loss: 0.6449 - val_accuracy: 0.7616\n",
            "Epoch 10/40\n",
            "92/92 [==============================] - 5s 57ms/step - loss: 0.5999 - accuracy: 0.7698 - val_loss: 0.6705 - val_accuracy: 0.7589\n",
            "Epoch 11/40\n",
            "92/92 [==============================] - 5s 56ms/step - loss: 0.5907 - accuracy: 0.7776 - val_loss: 0.6381 - val_accuracy: 0.7752\n",
            "Epoch 12/40\n",
            "92/92 [==============================] - 5s 58ms/step - loss: 0.5797 - accuracy: 0.7783 - val_loss: 0.6730 - val_accuracy: 0.7561\n",
            "Epoch 13/40\n",
            "92/92 [==============================] - 5s 57ms/step - loss: 0.5744 - accuracy: 0.7871 - val_loss: 0.6601 - val_accuracy: 0.7561\n",
            "Epoch 14/40\n",
            "92/92 [==============================] - 5s 57ms/step - loss: 0.5478 - accuracy: 0.7919 - val_loss: 0.7006 - val_accuracy: 0.7493\n",
            "Epoch 15/40\n",
            "43/92 [=============>................] - ETA: 2s - loss: 0.5408 - accuracy: 0.7895"
          ]
        }
      ],
      "source": [
        "# train the model\n",
        "epochs = 40 # количество эпох тренировки\n",
        "history = model.fit(\n",
        "\ttrain_ds,\n",
        "\tvalidation_data=val_ds,\n",
        "\tepochs=epochs)\n",
        "\n",
        "# visualize training and validation results\n",
        "acc = history.history['accuracy']\n",
        "val_acc = history.history['val_accuracy']\n",
        "\n",
        "loss = history.history['loss']\n",
        "val_loss = history.history['val_loss']\n",
        "\n",
        "epochs_range = range(epochs)\n",
        "\n",
        "plt.figure(figsize=(8, 8))\n",
        "plt.subplot(1, 2, 1)\n",
        "plt.plot(epochs_range, acc, label='Training Accuracy')\n",
        "plt.plot(epochs_range, val_acc, label='Validation Accuracy')\n",
        "plt.legend(loc='lower right')\n",
        "plt.title('Training and Validation Accuracy')\n",
        "\n",
        "plt.subplot(1, 2, 2)\n",
        "plt.plot(epochs_range, loss, label='Training Loss')\n",
        "plt.plot(epochs_range, val_loss, label='Validation Loss')\n",
        "plt.legend(loc='upper right')\n",
        "plt.title('Training and Validation Loss')\n",
        "plt.show()"
      ]
    },
    {
      "cell_type": "markdown",
      "metadata": {
        "id": "av2-Pg2edtjW"
      },
      "source": [
        "##Делаем инференс на новом изображении"
      ]
    },
    {
      "cell_type": "code",
      "execution_count": null,
      "metadata": {
        "colab": {
          "base_uri": "https://localhost:8080/"
        },
        "id": "R-1yf_qpdwqY",
        "outputId": "e370cb89-df84-4865-b57e-ae7a6ee7d2eb"
      },
      "outputs": [
        {
          "name": "stdout",
          "output_type": "stream",
          "text": [
            "1/1 [==============================] - 0s 72ms/step\n",
            "На изображении скорее всего sunflowers (70.93% вероятность)\n"
          ]
        }
      ],
      "source": [
        "# load image\n",
        "sunflower_url = \"https://encrypted-tbn0.gstatic.com/images?q=tbn:ANd9GcRhmwyldi9GtJN58MSiCwRN2cNHPOkDQwntYg&s\"\n",
        "sunflower_path = tf.keras.utils.get_file('Wome47', origin=sunflower_url)\n",
        "\n",
        "img = tf.keras.utils.load_img(\n",
        "    sunflower_path, target_size=(img_height, img_width)\n",
        ")\n",
        "img_array = tf.keras.utils.img_to_array(img)\n",
        "img_array = tf.expand_dims(img_array, 0)\n",
        "\n",
        "# make predictions\n",
        "predictions = model.predict(img_array)\n",
        "score = tf.nn.softmax(predictions[0])\n",
        "\n",
        "# print inference result\n",
        "print(\"На изображении скорее всего {} ({:.2f}% вероятность)\".format(\n",
        "\tclass_names[np.argmax(score)],\n",
        "\t100 * np.max(score)))\n",
        "\n",
        "# show the image itself\n",
        "img.show()"
      ]
    },
    {
      "cell_type": "markdown",
      "metadata": {
        "id": "86KA7HVLfgiA"
      },
      "source": [
        "##Экспорт файла модели (скачать себе на компьютер)"
      ]
    },
    {
      "cell_type": "code",
      "execution_count": null,
      "metadata": {
        "colab": {
          "base_uri": "https://localhost:8080/",
          "height": 72
        },
        "id": "QPSUoBs5fkN6",
        "outputId": "eb6a18ef-3b7f-4d62-8171-5a41102e8c5b"
      },
      "outputs": [
        {
          "name": "stderr",
          "output_type": "stream",
          "text": [
            "/usr/local/lib/python3.10/dist-packages/keras/src/engine/training.py:3103: UserWarning: You are saving your model as an HDF5 file via `model.save()`. This file format is considered legacy. We recommend using instead the native Keras format, e.g. `model.save('my_model.keras')`.\n",
            "  saving_api.save_model(\n"
          ]
        },
        {
          "data": {
            "application/javascript": [
              "\n",
              "    async function download(id, filename, size) {\n",
              "      if (!google.colab.kernel.accessAllowed) {\n",
              "        return;\n",
              "      }\n",
              "      const div = document.createElement('div');\n",
              "      const label = document.createElement('label');\n",
              "      label.textContent = `Downloading \"${filename}\": `;\n",
              "      div.appendChild(label);\n",
              "      const progress = document.createElement('progress');\n",
              "      progress.max = size;\n",
              "      div.appendChild(progress);\n",
              "      document.body.appendChild(div);\n",
              "\n",
              "      const buffers = [];\n",
              "      let downloaded = 0;\n",
              "\n",
              "      const channel = await google.colab.kernel.comms.open(id);\n",
              "      // Send a message to notify the kernel that we're ready.\n",
              "      channel.send({})\n",
              "\n",
              "      for await (const message of channel.messages) {\n",
              "        // Send a message to notify the kernel that we're ready.\n",
              "        channel.send({})\n",
              "        if (message.buffers) {\n",
              "          for (const buffer of message.buffers) {\n",
              "            buffers.push(buffer);\n",
              "            downloaded += buffer.byteLength;\n",
              "            progress.value = downloaded;\n",
              "          }\n",
              "        }\n",
              "      }\n",
              "      const blob = new Blob(buffers, {type: 'application/binary'});\n",
              "      const a = document.createElement('a');\n",
              "      a.href = window.URL.createObjectURL(blob);\n",
              "      a.download = filename;\n",
              "      div.appendChild(a);\n",
              "      a.click();\n",
              "      div.remove();\n",
              "    }\n",
              "  "
            ],
            "text/plain": [
              "<IPython.core.display.Javascript object>"
            ]
          },
          "metadata": {},
          "output_type": "display_data"
        },
        {
          "data": {
            "application/javascript": [
              "download(\"download_c1b0dbc3-8ef5-4338-869f-ea7ad6a88da0\", \"my_flowers_model.h5\", 23928856)"
            ],
            "text/plain": [
              "<IPython.core.display.Javascript object>"
            ]
          },
          "metadata": {},
          "output_type": "display_data"
        }
      ],
      "source": [
        "from google.colab import files\n",
        "\n",
        "model_file_name = \"my_flowers_model.h5\"\n",
        "\n",
        "# save model\n",
        "model.save(model_file_name)\n",
        "\n",
        "# download model\n",
        "files.download(model_file_name)"
      ]
    },
    {
      "cell_type": "code",
      "execution_count": null,
      "metadata": {
        "id": "6CNE89piaAcp"
      },
      "outputs": [],
      "source": []
    }
  ],
  "metadata": {
    "accelerator": "GPU",
    "colab": {
      "gpuType": "T4",
      "provenance": []
    },
    "kernelspec": {
      "display_name": "Python 3",
      "name": "python3"
    },
    "language_info": {
      "name": "python"
    }
  },
  "nbformat": 4,
  "nbformat_minor": 0
}